{
 "cells": [
  {
   "cell_type": "code",
   "execution_count": 5,
   "id": "a8a5676e-673c-45e5-8386-28732b941bd5",
   "metadata": {},
   "outputs": [
    {
     "ename": "KeyboardInterrupt",
     "evalue": "",
     "output_type": "error",
     "traceback": [
      "\u001b[0;31m---------------------------------------------------------------------------\u001b[0m",
      "\u001b[0;31mKeyboardInterrupt\u001b[0m                         Traceback (most recent call last)",
      "\u001b[1;32m/home/nwilliam/tek/Complexite-Algorithmique-Projet/complexities/complexities.ipynb Cell 1\u001b[0m line \u001b[0;36m2\n\u001b[1;32m     <a href='vscode-notebook-cell:/home/nwilliam/tek/Complexite-Algorithmique-Projet/complexities/complexities.ipynb#W0sZmlsZQ%3D%3D?line=25'>26</a>\u001b[0m \u001b[39mfor\u001b[39;00m n \u001b[39min\u001b[39;00m n_values_function_1:\n\u001b[1;32m     <a href='vscode-notebook-cell:/home/nwilliam/tek/Complexite-Algorithmique-Projet/complexities/complexities.ipynb#W0sZmlsZQ%3D%3D?line=26'>27</a>\u001b[0m    start_time \u001b[39m=\u001b[39m time\u001b[39m.\u001b[39mtime()\n\u001b[0;32m---> <a href='vscode-notebook-cell:/home/nwilliam/tek/Complexite-Algorithmique-Projet/complexities/complexities.ipynb#W0sZmlsZQ%3D%3D?line=27'>28</a>\u001b[0m    function_1(n)\n\u001b[1;32m     <a href='vscode-notebook-cell:/home/nwilliam/tek/Complexite-Algorithmique-Projet/complexities/complexities.ipynb#W0sZmlsZQ%3D%3D?line=28'>29</a>\u001b[0m    end_time \u001b[39m=\u001b[39m time\u001b[39m.\u001b[39mtime()\n\u001b[1;32m     <a href='vscode-notebook-cell:/home/nwilliam/tek/Complexite-Algorithmique-Projet/complexities/complexities.ipynb#W0sZmlsZQ%3D%3D?line=29'>30</a>\u001b[0m    elapsed_time \u001b[39m=\u001b[39m end_time \u001b[39m-\u001b[39m start_time\n",
      "\u001b[1;32m/home/nwilliam/tek/Complexite-Algorithmique-Projet/complexities/complexities.ipynb Cell 1\u001b[0m line \u001b[0;36m1\n\u001b[1;32m      <a href='vscode-notebook-cell:/home/nwilliam/tek/Complexite-Algorithmique-Projet/complexities/complexities.ipynb#W0sZmlsZQ%3D%3D?line=8'>9</a>\u001b[0m     temp \u001b[39m=\u001b[39m \u001b[39m0\u001b[39m\n\u001b[1;32m     <a href='vscode-notebook-cell:/home/nwilliam/tek/Complexite-Algorithmique-Projet/complexities/complexities.ipynb#W0sZmlsZQ%3D%3D?line=9'>10</a>\u001b[0m     \u001b[39mfor\u001b[39;00m j \u001b[39min\u001b[39;00m \u001b[39mrange\u001b[39m(i):\n\u001b[0;32m---> <a href='vscode-notebook-cell:/home/nwilliam/tek/Complexite-Algorithmique-Projet/complexities/complexities.ipynb#W0sZmlsZQ%3D%3D?line=10'>11</a>\u001b[0m         temp \u001b[39m+\u001b[39m\u001b[39m=\u001b[39m j\n\u001b[1;32m     <a href='vscode-notebook-cell:/home/nwilliam/tek/Complexite-Algorithmique-Projet/complexities/complexities.ipynb#W0sZmlsZQ%3D%3D?line=11'>12</a>\u001b[0m     temp_list\u001b[39m.\u001b[39mappend(temp)\n\u001b[1;32m     <a href='vscode-notebook-cell:/home/nwilliam/tek/Complexite-Algorithmique-Projet/complexities/complexities.ipynb#W0sZmlsZQ%3D%3D?line=12'>13</a>\u001b[0m \u001b[39msum\u001b[39m(temp_list)\n",
      "\u001b[0;31mKeyboardInterrupt\u001b[0m: "
     ]
    }
   ],
   "source": [
    " import time\n",
    "import numpy as np\n",
    "import matplotlib.pyplot as plt\n",
    "from random import shuffle\n",
    "\n",
    "def function_1(n: int) -> None:\n",
    "    temp_list = list()\n",
    "    for i in range(n**2):\n",
    "        temp = 0\n",
    "        for j in range(i):\n",
    "            temp += j\n",
    "        temp_list.append(temp)\n",
    "    sum(temp_list)\n",
    "\n",
    "def function_2(n: int) -> None:\n",
    "    print(n)\n",
    "    for i in range(n):\n",
    "        temp_list = [j+i for j in range(n)]\n",
    "        shuffle(temp_list)\n",
    "        max(temp_list)\n",
    "\n",
    "# Processus pour la fonction 1\n",
    "n_values_function_1 = [1, 10, 50, 75, 100]\n",
    "time_values_function_1 = []\n",
    "\n",
    "for n in n_values_function_1:\n",
    "    start_time = time.time()\n",
    "    function_1(n)\n",
    "    end_time = time.time()\n",
    "    elapsed_time = end_time - start_time\n",
    "    time_values_function_1.append(elapsed_time)\n",
    "\n",
    "coefficients_function_1 = np.polyfit(n_values_function_1, time_values_function_1, 4)\n",
    "polynomial_function_1 = np.poly1d(coefficients_function_1)\n",
    "\n",
    "print(\"Complexity estimation for function 1: O(n^4)\")\n",
    "print(\"Polynomial coefficients for function 1:\", coefficients_function_1)\n",
    "\n",
    "plt.scatter(n_values_function_1, time_values_function_1, label=\"Measured times for function 1\")\n",
    "x_values_function_1 = np.linspace(min(n_values_function_1), max(n_values_function_1), 100)\n",
    "plt.plot(x_values_function_1, polynomial_function_1(x_values_function_1), label=\"Fitted polynomial for function 1\")\n",
    "plt.xlabel(\"n\")\n",
    "plt.ylabel(\"Time\")\n",
    "plt.legend()\n",
    "plt.show()\n",
    "\n",
    "# Processus pour la fonction 2\n",
    "n_values_function_2 = [1, 10, 50, 75, 100]\n",
    "time_values_function_2 = []\n",
    "\n",
    "for n in n_values_function_2:\n",
    "    start_time = time.time()\n",
    "    function_2(n)\n",
    "    end_time = time.time()\n",
    "    elapsed_time = end_time - start_time\n",
    "    time_values_function_2.append(elapsed_time)\n",
    "\n",
    "coefficients_function_2 = np.polyfit(n_values_function_2, time_values_function_2, 2)\n",
    "polynomial_function_2 = np.poly1d(coefficients_function_2)\n",
    "\n",
    "print(\"Complexity estimation for function 2: O(n^2)\")\n",
    "print(\"Polynomial coefficients for function 2:\", coefficients_function_2)\n",
    "\n",
    "plt.scatter(n_values_function_2, time_values_function_2, label=\"Measured times for function 2\")\n",
    "x_values_function_2 = np.linspace(min(n_values_function_2), max(n_values_function_2), 100)\n",
    "plt.plot(x_values_function_2, polynomial_function_2(x_values_function_2), label=\"Fitted polynomial for function 2\")\n",
    "plt.xlabel(\"n\")\n",
    "plt.ylabel(\"Time\")\n",
    "plt.legend()\n",
    "plt.show()\n",
    "\n"
   ]
  }
 ],
 "metadata": {
  "kernelspec": {
   "display_name": "Python 3 (ipykernel)",
   "language": "python",
   "name": "python3"
  },
  "language_info": {
   "codemirror_mode": {
    "name": "ipython",
    "version": 3
   },
   "file_extension": ".py",
   "mimetype": "text/x-python",
   "name": "python",
   "nbconvert_exporter": "python",
   "pygments_lexer": "ipython3",
   "version": "3.9.13"
  }
 },
 "nbformat": 4,
 "nbformat_minor": 5
}

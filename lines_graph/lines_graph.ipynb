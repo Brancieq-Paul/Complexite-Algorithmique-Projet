{
 "cells": [
  {
   "cell_type": "markdown",
   "id": "cf770840",
   "metadata": {},
   "source": [
    "# PART 4: Line graphs, hamiltonian paths and eulerian paths\n",
    "\n",
    "#### 1) After doing some research, present with your own words the two following problems, and then the connection between them :\n",
    "- existence of an eulerian path in a graph\n",
    "- existence of a hamiltonian path in a graph\n",
    "\n",
    "We can see an Eulerian path like long walk in the nature, or a visit of a country when you want to see different landscapes and countryside. Your goal is to pass by many roads and avoids loosing time by passing by the same several time, but you may pass by the same village more than once. There is a simple method to know if an eulerian path exist in a graph: an Eulerian path exists in a graph if and only if the number of vertices with an odd number if edge that are incident to it is either zero or two.\n",
    "\n",
    "The Hamiltonian path is the total inverse. When you visit a city, you want to visit places, specific points. You do not care if didn't use a specific bus line, but you may want to see all museums. It's harder to know if a Hamiltonian path exist. There is no known algorithm that find it efficiently, it's a NP-Problem.\n",
    "\n",
    "Both are a type of path with specifics rules that ask do do something only once, buut they are very different in the way to prove their existence."
   ]
  }
 ],
 "metadata": {
  "kernelspec": {
   "display_name": "Python 3 (ipykernel)",
   "language": "python",
   "name": "python3"
  },
  "language_info": {
   "codemirror_mode": {
    "name": "ipython",
    "version": 3
   },
   "file_extension": ".py",
   "mimetype": "text/x-python",
   "name": "python",
   "nbconvert_exporter": "python",
   "pygments_lexer": "ipython3",
   "version": "3.11.4"
  }
 },
 "nbformat": 4,
 "nbformat_minor": 5
}

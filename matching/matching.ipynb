{
 "cells": [
  {
   "cell_type": "markdown",
   "id": "9635c84d-3cba-45e1-836b-065c4d55bfeb",
   "metadata": {},
   "source": [
    "# PART 2: CHOOSING BINOMS IN A COMPANY (MATCHING)\n",
    "\n",
    "## Exercice 2.3\n",
    "\n",
    "1) For this exercice, we picked the greedy algorithm and the KarpSipser algorithm from the \"Degree Heuristics for Matching\" document."
   ]
  },
  {
   "cell_type": "code",
   "execution_count": 159,
   "id": "797f9760",
   "metadata": {},
   "outputs": [],
   "source": [
    "import networkx as nx\n",
    "import timeit"
   ]
  },
  {
   "cell_type": "code",
   "execution_count": 160,
   "id": "6446c1ae-f6ac-4ee9-9c1e-cca77928f70b",
   "metadata": {},
   "outputs": [],
   "source": [
    "def greedy_algorithm(graph):\n",
    "    matching = {}\n",
    "    nodes = graph.nodes()\n",
    "\n",
    "    for n in nodes:\n",
    "        if n not in matching:\n",
    "            edges = graph.neighbors(n)\n",
    "            for e in edges:\n",
    "                if e not in matching:\n",
    "                    matching[n] = e\n",
    "                    matching[e] = n\n",
    "                    break\n",
    "    return matching"
   ]
  },
  {
   "cell_type": "code",
   "execution_count": 161,
   "id": "f7a2329e-ec2c-45bb-9be4-8cd62d8821ce",
   "metadata": {},
   "outputs": [],
   "source": [
    "def karpsipser_algorithm(graph, d):\n",
    "    graph = graph.copy()\n",
    "    matching = {}\n",
    "\n",
    "    while len(graph.nodes()) != 0:\n",
    "        degree = graph.degree()\n",
    "        if any(d == l[1] for l in degree):\n",
    "            degrees = dict(degree)\n",
    "            u = min(degrees, key=degrees.get)\n",
    "        else:\n",
    "            u = next(iter(graph.nodes()), None)\n",
    "        v = graph.neighbors(u)\n",
    "        try:\n",
    "            v = next(v)\n",
    "        except:\n",
    "            graph.remove_node(u)\n",
    "            continue\n",
    "        matching[u] = v\n",
    "        matching[v] = u\n",
    "        graph.remove_node(u)\n",
    "        graph.remove_node(v)\n",
    "\n",
    "    return matching"
   ]
  },
  {
   "cell_type": "code",
   "execution_count": 163,
   "id": "ff22f330-c872-4658-8712-1ce928b602e5",
   "metadata": {},
   "outputs": [],
   "source": [
    "x = nx.gnp_random_graph(120, 0.04)"
   ]
  },
  {
   "cell_type": "code",
   "execution_count": 164,
   "id": "651572d8-496d-4d13-83c2-19c8bf1f2c7e",
   "metadata": {},
   "outputs": [
    {
     "name": "stdout",
     "output_type": "stream",
     "text": [
      "Results for greedy algorithm\n",
      "Nb match: 52.0\n",
      "Matches: {0: 59, 59: 0, 1: 39, 39: 1, 2: 12, 12: 2, 3: 70, 70: 3, 4: 44, 44: 4, 5: 11, 11: 5, 6: 29, 29: 6, 7: 91, 91: 7, 8: 24, 24: 8, 9: 10, 10: 9, 13: 50, 50: 13, 14: 23, 23: 14, 15: 18, 18: 15, 16: 28, 28: 16, 17: 32, 32: 17, 19: 74, 74: 19, 20: 58, 58: 20, 21: 43, 43: 21, 25: 31, 31: 25, 26: 41, 41: 26, 27: 45, 45: 27, 30: 54, 54: 30, 33: 48, 48: 33, 34: 35, 35: 34, 36: 47, 47: 36, 38: 82, 82: 38, 40: 89, 89: 40, 42: 77, 77: 42, 46: 75, 75: 46, 51: 69, 69: 51, 52: 79, 79: 52, 53: 72, 72: 53, 55: 62, 62: 55, 56: 85, 85: 56, 57: 90, 90: 57, 60: 84, 84: 60, 63: 67, 67: 63, 64: 116, 116: 64, 65: 68, 68: 65, 66: 108, 108: 66, 71: 97, 97: 71, 76: 119, 119: 76, 78: 86, 86: 78, 80: 106, 106: 80, 81: 117, 117: 81, 83: 94, 94: 83, 88: 92, 92: 88, 93: 109, 109: 93, 95: 112, 112: 95, 100: 111, 111: 100, 101: 103, 103: 101, 102: 118, 118: 102}\n"
     ]
    }
   ],
   "source": [
    "res = greedy_algorithm(x)\n",
    "print(\"Results for greedy algorithm\")\n",
    "print(\"Nb match:\", len(res) / 2)\n",
    "print(\"Matches:\", res)"
   ]
  },
  {
   "cell_type": "code",
   "execution_count": 165,
   "id": "c2de8d30-86ff-4f49-8238-0244ed189d72",
   "metadata": {},
   "outputs": [
    {
     "name": "stdout",
     "output_type": "stream",
     "text": [
      "Results for KarpSipser algorithm\n",
      "Nb match: 59.0\n",
      "Matches: {37: 6, 6: 37, 55: 62, 62: 55, 83: 94, 94: 83, 96: 78, 78: 96, 104: 90, 90: 104, 0: 59, 59: 0, 86: 3, 3: 86, 73: 8, 8: 73, 1: 39, 39: 1, 2: 12, 12: 2, 4: 44, 44: 4, 5: 11, 11: 5, 61: 34, 34: 61, 7: 91, 91: 7, 9: 10, 10: 9, 13: 50, 50: 13, 14: 23, 23: 14, 15: 18, 18: 15, 38: 82, 82: 38, 42: 77, 77: 42, 98: 53, 53: 98, 16: 28, 28: 16, 99: 51, 51: 99, 17: 32, 32: 17, 65: 68, 68: 65, 19: 74, 74: 19, 20: 58, 58: 20, 103: 101, 101: 103, 21: 43, 43: 21, 24: 35, 35: 24, 111: 100, 100: 111, 40: 89, 89: 40, 25: 31, 31: 25, 26: 41, 41: 26, 56: 85, 85: 56, 76: 119, 119: 76, 69: 114, 114: 69, 27: 45, 45: 27, 80: 106, 106: 80, 29: 47, 47: 29, 66: 108, 108: 66, 87: 33, 33: 87, 92: 88, 88: 92, 63: 67, 67: 63, 102: 118, 118: 102, 30: 54, 54: 30, 49: 75, 75: 49, 36: 64, 64: 36, 116: 107, 107: 116, 46: 70, 70: 46, 95: 112, 112: 95, 105: 117, 117: 105, 48: 93, 93: 48, 113: 57, 57: 113, 52: 79, 79: 52, 72: 97, 97: 72, 71: 110, 110: 71, 81: 84, 84: 81, 60: 115, 115: 60}\n"
     ]
    }
   ],
   "source": [
    "res2 = karpsipser_algorithm(x, 1)\n",
    "print(\"Results for KarpSipser algorithm\")\n",
    "print(\"Nb match:\", len(res2) / 2)\n",
    "print(\"Matches:\", res2)"
   ]
  },
  {
   "cell_type": "code",
   "execution_count": 166,
   "id": "6485fd68-ab8b-4223-99bf-5ed1640cc175",
   "metadata": {},
   "outputs": [
    {
     "name": "stdout",
     "output_type": "stream",
     "text": [
      "Results for greedy algorithm\n",
      "Time: 4.696343103569234e-05 s\n",
      "Nb match: 51.469\n",
      "\n",
      "\n",
      "Results for KarpSipser algorithm\n",
      "Time: 0.002186762019966409 s\n",
      "Nb match: 58.656\n"
     ]
    }
   ],
   "source": [
    "nb_test = 1000\n",
    "res = 0\n",
    "time = 0\n",
    "res1 = 0\n",
    "time1 = 0\n",
    "\n",
    "for i in range (0, nb_test):\n",
    "    x = nx.gnp_random_graph(120, 0.04)\n",
    "    start = timeit.default_timer()\n",
    "    res += len(greedy_algorithm(x))\n",
    "    time += timeit.default_timer() - start\n",
    "\n",
    "    start = timeit.default_timer()\n",
    "    res1 += len(karpsipser_algorithm(x, 1))\n",
    "    time1 += timeit.default_timer() - start\n",
    "\n",
    "print(\"Results for greedy algorithm\")\n",
    "print(\"Time:\", time/nb_test, \"s\")\n",
    "print(\"Nb match:\", res / nb_test / 2)\n",
    "\n",
    "print(\"\\n\\nResults for KarpSipser algorithm\")\n",
    "print(\"Time:\", time1 / nb_test, \"s\")\n",
    "print(\"Nb match:\", res1 / nb_test / 2)"
   ]
  },
  {
   "cell_type": "markdown",
   "id": "b7d54961-0469-4934-9e6a-7570f94fe59c",
   "metadata": {},
   "source": [
    "2) All the code to prove that the coded functions work is here (there is no test_matching.py)"
   ]
  },
  {
   "cell_type": "markdown",
   "id": "a63bf8f7-d433-40b0-ac37-1ead102d1669",
   "metadata": {},
   "source": [
    "3) On a sample of 1000 tests, we have the following average results (with a gnp random graph of 120 nodes and p=0.04):\n",
    "\n",
    "Greedy algorithm:\n",
    "Time: 3.9154355057689824e-05 s\n",
    "Nb match: 51.466\n",
    "\n",
    "KarpSipser algorithm\n",
    "Time: 0.001971187395032757 s\n",
    "Nb match: 58.684\n",
    "\n",
    "The greedy algorithm is therefore 50 times faster on average, but 0.88 times less efficient."
   ]
  },
  {
   "cell_type": "markdown",
   "id": "1c5ff310-6948-485d-9756-9f0b4e36872d",
   "metadata": {},
   "source": [
    "4) The greedy algorithm is polynomial because it loops through all nodes (constant operation) and in the worst case will loops through all edges of each node. In the worst case, the algorithm is O(N * E)\n",
    "\n",
    "   The KarpSipser algorithm is also polynomial because, like greedy, it loops through all nodes and then recalculates the degree of each node. The algorithm is therefore 0(N^2)"
   ]
  }
 ],
 "metadata": {
  "kernelspec": {
   "display_name": "Python 3 (ipykernel)",
   "language": "python",
   "name": "python3"
  },
  "language_info": {
   "codemirror_mode": {
    "name": "ipython",
    "version": 3
   },
   "file_extension": ".py",
   "mimetype": "text/x-python",
   "name": "python",
   "nbconvert_exporter": "python",
   "pygments_lexer": "ipython3",
   "version": "3.10.12"
  }
 },
 "nbformat": 4,
 "nbformat_minor": 5
}

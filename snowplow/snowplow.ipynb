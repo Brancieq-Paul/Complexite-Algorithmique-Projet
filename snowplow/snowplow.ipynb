{
 "cells": [
  {
   "cell_type": "markdown",
   "id": "11d5f07a-1d99-47f4-8d34-fa6c840b5162",
   "metadata": {},
   "source": [
    "# PART 1: THE SNOWPLOW PROBLEM\n",
    "\n",
    "## Exercice 1.2\n",
    "\n",
    "1) Propose a n ∈ ℕ and a config of the houses"
   ]
  },
  {
   "cell_type": "code",
   "execution_count": 3,
   "id": "f5b62616-e3af-4cb6-9a73-a2593880e8c0",
   "metadata": {},
   "outputs": [],
   "source": [
    "n = 5\n",
    "config = [-4.123, 10.4, 11.295, 12.05, 13.95]"
   ]
  },
  {
   "cell_type": "markdown",
   "id": "0ecb2c23-8e3d-474c-81bd-f63ffec909fc",
   "metadata": {},
   "source": [
    "- Pour le sort, la déneigeuse va d'abord aller à la première maison (pos: -4.123) puis aller aux cluster de maison (pos du cluster: [10, 14]), ce qui fait attendre le cluster de maisons plus longtemps qu'il ne le faudrait.\n",
    "\n",
    "- Pour le greedy, la déneigeuse va également aller à la première maison (pos: -4.123) car c'est la plus proche. La déneigeuse aura donc fait attendre le cluster comme pour le sort."
   ]
  },
  {
   "cell_type": "markdown",
   "id": "e33d600b-c311-4abf-9dd8-3a278a5bb5dc",
   "metadata": {},
   "source": [
    "2. "
   ]
  },
  {
   "cell_type": "code",
   "execution_count": null,
   "id": "2db0daa5-432f-4a25-abc0-c2264b2d2b9a",
   "metadata": {},
   "outputs": [],
   "source": []
  }
 ],
 "metadata": {
  "kernelspec": {
   "display_name": "Python 3 (ipykernel)",
   "language": "python",
   "name": "python3"
  },
  "language_info": {
   "codemirror_mode": {
    "name": "ipython",
    "version": 3
   },
   "file_extension": ".py",
   "mimetype": "text/x-python",
   "name": "python",
   "nbconvert_exporter": "python",
   "pygments_lexer": "ipython3",
   "version": "3.10.6"
  }
 },
 "nbformat": 4,
 "nbformat_minor": 5
}
